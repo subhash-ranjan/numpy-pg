{
  "nbformat": 4,
  "nbformat_minor": 0,
  "metadata": {
    "colab": {
      "name": "numpy-pg.ipynb",
      "provenance": [],
      "collapsed_sections": [],
      "authorship_tag": "ABX9TyNGboVT7IW9Zp8/pyafXzka",
      "include_colab_link": true
    },
    "kernelspec": {
      "name": "python3",
      "display_name": "Python 3"
    },
    "language_info": {
      "name": "python"
    }
  },
  "cells": [
    {
      "cell_type": "markdown",
      "metadata": {
        "id": "view-in-github",
        "colab_type": "text"
      },
      "source": [
        "<a href=\"https://colab.research.google.com/github/subhash-ranjan/numpy-pg/blob/main/numpy_pg.ipynb\" target=\"_parent\"><img src=\"https://colab.research.google.com/assets/colab-badge.svg\" alt=\"Open In Colab\"/></a>"
      ]
    },
    {
      "cell_type": "code",
      "execution_count": 1,
      "metadata": {
        "id": "cIZrgj5Pp-9h"
      },
      "outputs": [],
      "source": [
        "import numpy as np"
      ]
    },
    {
      "cell_type": "code",
      "source": [
        "a = np.array([1,2,3],dtype='int16')"
      ],
      "metadata": {
        "id": "VK2M3rtXv44_"
      },
      "execution_count": null,
      "outputs": []
    },
    {
      "cell_type": "markdown",
      "source": [
        ""
      ],
      "metadata": {
        "id": "M8TFDYFlfxam"
      }
    },
    {
      "cell_type": "code",
      "source": [
        "# Get shape\n",
        "a.shape"
      ],
      "metadata": {
        "colab": {
          "base_uri": "https://localhost:8080/"
        },
        "id": "51kUxHZIwVYR",
        "outputId": "b1a2c27a-e740-4769-c3e6-f2ae1778b1f1"
      },
      "execution_count": null,
      "outputs": [
        {
          "output_type": "execute_result",
          "data": {
            "text/plain": [
              "(2, 3)"
            ]
          },
          "metadata": {},
          "execution_count": 7
        }
      ]
    },
    {
      "cell_type": "code",
      "source": [
        "# Get type\n",
        "a.dtype"
      ],
      "metadata": {
        "colab": {
          "base_uri": "https://localhost:8080/"
        },
        "id": "Zcbt7mfxys4u",
        "outputId": "88674e97-fcd6-4311-f9cf-5670e15661a6"
      },
      "execution_count": null,
      "outputs": [
        {
          "output_type": "execute_result",
          "data": {
            "text/plain": [
              "dtype('int64')"
            ]
          },
          "metadata": {},
          "execution_count": 8
        }
      ]
    },
    {
      "cell_type": "code",
      "source": [
        "# Get size\n",
        "a.itemsize\n"
      ],
      "metadata": {
        "colab": {
          "base_uri": "https://localhost:8080/"
        },
        "id": "9aSlrJM31fJH",
        "outputId": "9899be32-a3a5-40cb-8570-1c7acb8df4b9"
      },
      "execution_count": null,
      "outputs": [
        {
          "output_type": "execute_result",
          "data": {
            "text/plain": [
              "2"
            ]
          },
          "metadata": {},
          "execution_count": 11
        }
      ]
    },
    {
      "cell_type": "code",
      "source": [
        "# Get Total size\n",
        "\n",
        "a.size * a.itemsize\n",
        "\n",
        "# or \n",
        "\n",
        "a.nbytes"
      ],
      "metadata": {
        "colab": {
          "base_uri": "https://localhost:8080/"
        },
        "id": "VfLnXlWS2Jwk",
        "outputId": "a1b80914-5e59-4001-f6ed-efe35b697417"
      },
      "execution_count": null,
      "outputs": [
        {
          "output_type": "execute_result",
          "data": {
            "text/plain": [
              "6"
            ]
          },
          "metadata": {},
          "execution_count": 13
        }
      ]
    },
    {
      "cell_type": "markdown",
      "source": [
        "Access/Modify items"
      ],
      "metadata": {
        "id": "9Wp-_QTJ35Jb"
      }
    },
    {
      "cell_type": "code",
      "source": [
        "item = np.array([[1,33,4,6,8,77],[31,44,6,7,9,89]])\n",
        "\n",
        "# Get 44\n",
        "item[1,1]\n",
        "\n",
        "# Get a specific row ':' for all columns\n",
        "item[0,:]\n",
        "\n",
        "# Get by [startindex:endindex:stepsize]\n",
        "# get [33,6,77]\n",
        "item[0,1:6:2]\n",
        "\n",
        "# get [8,9] allrows: 4th col\n",
        "item[:,-2]\n",
        "\n",
        "\n"
      ],
      "metadata": {
        "colab": {
          "base_uri": "https://localhost:8080/"
        },
        "id": "T5Xneyzd385t",
        "outputId": "284cd990-0aa7-4114-cde7-4230651a645f"
      },
      "execution_count": null,
      "outputs": [
        {
          "output_type": "execute_result",
          "data": {
            "text/plain": [
              "array([8, 9])"
            ]
          },
          "metadata": {},
          "execution_count": 7
        }
      ]
    },
    {
      "cell_type": "markdown",
      "source": [
        "3D array"
      ],
      "metadata": {
        "id": "ANYCFL4_K-rL"
      }
    },
    {
      "cell_type": "code",
      "source": [
        "b = np.array([[[1,4],[5,6]],[[8,9],[2,3]]])\n",
        "b"
      ],
      "metadata": {
        "id": "ElUX594m2k_N",
        "outputId": "0ac64e08-b519-4b82-bc33-ae65631d2dc9",
        "colab": {
          "base_uri": "https://localhost:8080/"
        }
      },
      "execution_count": null,
      "outputs": [
        {
          "output_type": "execute_result",
          "data": {
            "text/plain": [
              "array([[[1, 4],\n",
              "        [5, 6]],\n",
              "\n",
              "       [[8, 9],\n",
              "        [2, 3]]])"
            ]
          },
          "metadata": {},
          "execution_count": 12
        }
      ]
    },
    {
      "cell_type": "code",
      "source": [
        "# Get the item 4\n",
        "b[0,0,1]"
      ],
      "metadata": {
        "id": "ap0NuMwqLY7l",
        "outputId": "d5433c9f-f22d-4436-b37a-e912c996078b",
        "colab": {
          "base_uri": "https://localhost:8080/"
        }
      },
      "execution_count": null,
      "outputs": [
        {
          "output_type": "execute_result",
          "data": {
            "text/plain": [
              "4"
            ]
          },
          "metadata": {},
          "execution_count": 16
        }
      ]
    },
    {
      "cell_type": "markdown",
      "source": [
        "Initialize different arrays"
      ],
      "metadata": {
        "id": "HDMfpzYkNncf"
      }
    },
    {
      "cell_type": "code",
      "source": [
        "# All 0s matrix\n",
        "np.zeros((2,3),dtype='int32')\n",
        "\n",
        "# Other numbers: (full)\n",
        "np.full((2,3), 44, dtype='float')\n",
        "\n",
        "# By shape: (full)\n",
        "np.full(a.shape, 66)\n",
        "\n",
        "# Other numbers: (full_like)\n",
        "np.full_like(a,4,  dtype='float')\n",
        "\n",
        "# Random decimal numbers\n",
        "np.random.rand(2,3)\n",
        "\n",
        "# Random decimal numbers: (random_sample)\n",
        "np.random.random_sample(a.shape)\n",
        "\n",
        "# The identity matrix\n",
        "np.identity(4)\n",
        "\n",
        "# Repeat an array\n",
        "arr= np.array([[1,2,3]])\n",
        "arr1 = np.repeat(arr,3, axis=1)\n",
        "arr1\n",
        "\n"
      ],
      "metadata": {
        "id": "R14U69UVN-t8",
        "outputId": "68d2e08a-afec-4e63-cb15-32dda957317e",
        "colab": {
          "base_uri": "https://localhost:8080/"
        }
      },
      "execution_count": null,
      "outputs": [
        {
          "output_type": "execute_result",
          "data": {
            "text/plain": [
              "array([[1, 1, 1, 2, 2, 2, 3, 3, 3]])"
            ]
          },
          "metadata": {},
          "execution_count": 32
        }
      ]
    },
    {
      "cell_type": "markdown",
      "source": [
        "Deep copy"
      ],
      "metadata": {
        "id": "tagAnqB8fzZu"
      }
    },
    {
      "cell_type": "code",
      "source": [
        "a = np.array([1,2,3])\n",
        "b = a.copy()\n",
        "b[1] =100\n"
      ],
      "metadata": {
        "id": "zLUh9wDHf1ZU",
        "outputId": "018ad2d8-4ceb-4544-85b7-123859a140cb",
        "colab": {
          "base_uri": "https://localhost:8080/"
        }
      },
      "execution_count": null,
      "outputs": [
        {
          "output_type": "execute_result",
          "data": {
            "text/plain": [
              "array([1, 2, 3])"
            ]
          },
          "metadata": {},
          "execution_count": 9
        }
      ]
    },
    {
      "cell_type": "markdown",
      "source": [
        "Mathematics"
      ],
      "metadata": {
        "id": "t4iouQ1fgdWu"
      }
    },
    {
      "cell_type": "code",
      "source": [
        "a = np.array([1,2,3])\n",
        "b = np.array([2,3,4])\n",
        "a+b\n",
        "\n",
        "# Take the sin\n",
        "np.sin(a)\n"
      ],
      "metadata": {
        "id": "FpcOAqgpgfoX",
        "outputId": "eb2c8c3c-1427-4e05-8a19-5c36046f6a6f",
        "colab": {
          "base_uri": "https://localhost:8080/"
        }
      },
      "execution_count": null,
      "outputs": [
        {
          "output_type": "execute_result",
          "data": {
            "text/plain": [
              "array([0.84147098, 0.90929743, 0.14112001])"
            ]
          },
          "metadata": {},
          "execution_count": 13
        }
      ]
    },
    {
      "cell_type": "markdown",
      "source": [
        "Linear algebra"
      ],
      "metadata": {
        "id": "HzWeYjh3LIgr"
      }
    },
    {
      "cell_type": "code",
      "source": [
        "# Find the determinant\n",
        "c = np.identity(3)\n",
        "np.linalg.det(c)\n"
      ],
      "metadata": {
        "id": "IxkeVfD4LOT9",
        "outputId": "b728ab53-1388-40ec-c9c4-489e4ed30299",
        "colab": {
          "base_uri": "https://localhost:8080/"
        }
      },
      "execution_count": 3,
      "outputs": [
        {
          "output_type": "execute_result",
          "data": {
            "text/plain": [
              "1.0"
            ]
          },
          "metadata": {},
          "execution_count": 3
        }
      ]
    },
    {
      "cell_type": "markdown",
      "source": [
        "Stats"
      ],
      "metadata": {
        "id": "M-S-7mlNMG1R"
      }
    },
    {
      "cell_type": "code",
      "source": [
        "stats = np.array([[1,2,3],[4,5,6]])\n",
        "\n",
        "# Min\n",
        "np.min(stats, axis=0)\n",
        "np.max(stats, axis=1)\n",
        "\n",
        "#Sum\n",
        "np.sum(stats)\n"
      ],
      "metadata": {
        "id": "AolMxfMoMJdE",
        "outputId": "85c771e1-f77e-470b-b229-99f5c76b4f33",
        "colab": {
          "base_uri": "https://localhost:8080/"
        }
      },
      "execution_count": 9,
      "outputs": [
        {
          "output_type": "execute_result",
          "data": {
            "text/plain": [
              "21"
            ]
          },
          "metadata": {},
          "execution_count": 9
        }
      ]
    },
    {
      "cell_type": "markdown",
      "source": [
        "Reorganizing arrays"
      ],
      "metadata": {
        "id": "yqb4KCD3Nscy"
      }
    },
    {
      "cell_type": "code",
      "source": [
        "before = np.array([[1,2,3,4],[5,6,7,8]])\n",
        "after = before.reshape((4,2))\n",
        "\n",
        "# Vertically stacking arrays\n",
        "v1 = np.array([1,2,3,4])\n",
        "v2 = np.array([5,6,7,8])\n",
        "np.vstack([v1,v2])\n",
        "\n",
        "# Horizontally stacking arrays\n",
        "v1 = np.array([1,2,3,4])\n",
        "v2 = np.array([5,6,7,8])\n",
        "np.hstack([v1,v2,v1])\n",
        "\n"
      ],
      "metadata": {
        "id": "xwM4ROIFNzuJ",
        "outputId": "e5fe2c9f-46bd-4b26-94e0-ccbe333e580f",
        "colab": {
          "base_uri": "https://localhost:8080/"
        }
      },
      "execution_count": 18,
      "outputs": [
        {
          "output_type": "execute_result",
          "data": {
            "text/plain": [
              "array([1, 2, 3, 4, 5, 6, 7, 8, 1, 2, 3, 4])"
            ]
          },
          "metadata": {},
          "execution_count": 18
        }
      ]
    },
    {
      "cell_type": "markdown",
      "source": [
        "Miscellaneous"
      ],
      "metadata": {
        "id": "YuzqqvlpQJbD"
      }
    },
    {
      "cell_type": "code",
      "source": [
        "# Load from files\n",
        "filedata = np.genfromtxt('data.txt', delimiter=',')\n",
        "\n",
        "# Convert to int type\n",
        "filedata = filedata.astype('int32')\n",
        "\n",
        "# Boolean masking and advance indexing\n",
        "filedata[filedata>50]\n",
        "\n"
      ],
      "metadata": {
        "id": "PGPKLFdqQT4U",
        "outputId": "62c85f13-88f7-4fb6-ec4e-ea75948d463e",
        "colab": {
          "base_uri": "https://localhost:8080/"
        }
      },
      "execution_count": 24,
      "outputs": [
        {
          "output_type": "execute_result",
          "data": {
            "text/plain": [
              "array([196,  75, 766,  75,  55, 999,  78,  76,  88], dtype=int32)"
            ]
          },
          "metadata": {},
          "execution_count": 24
        }
      ]
    }
  ]
}